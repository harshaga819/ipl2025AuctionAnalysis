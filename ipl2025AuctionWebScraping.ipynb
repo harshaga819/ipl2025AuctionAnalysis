{
 "cells": [
  {
   "cell_type": "code",
   "execution_count": 78,
   "id": "5f6c2ffe-4d43-46a7-afb7-c8d4d1bda4a4",
   "metadata": {},
   "outputs": [],
   "source": [
    "import pandas as pd\n",
    "import requests\n",
    "from bs4 import BeautifulSoup\n",
    "import time"
   ]
  },
  {
   "cell_type": "code",
   "execution_count": null,
   "id": "cd70a72b-7cfa-4890-9e8f-4b4d4055ce50",
   "metadata": {},
   "outputs": [],
   "source": [
    "pip install selenium"
   ]
  },
  {
   "cell_type": "code",
   "execution_count": 183,
   "id": "2810d7e7-9c3f-47f9-8ce5-25da26a5fecd",
   "metadata": {},
   "outputs": [],
   "source": [
    "from selenium import webdriver\n",
    "from selenium.webdriver.common.by import By\n",
    "from selenium.webdriver.support.ui import WebDriverWait\n",
    "from selenium.webdriver.support import expected_conditions as EC"
   ]
  },
  {
   "cell_type": "code",
   "execution_count": 185,
   "id": "8812f19d-9ea3-4b0f-9d07-6c6b3d7d4c66",
   "metadata": {},
   "outputs": [],
   "source": [
    "driver = webdriver.Chrome()"
   ]
  },
  {
   "cell_type": "code",
   "execution_count": 150,
   "id": "cda0b5dc-34c0-4423-ae58-3ec4e7977f59",
   "metadata": {},
   "outputs": [],
   "source": [
    "url = 'https://www.espncricinfo.com/auction/ipl-2025-auction-1460972/all-players'"
   ]
  },
  {
   "cell_type": "code",
   "execution_count": 187,
   "id": "8d88606e-3185-4990-8d94-c10f9ceae573",
   "metadata": {},
   "outputs": [],
   "source": [
    "driver.get(url)"
   ]
  },
  {
   "cell_type": "code",
   "execution_count": 189,
   "id": "18a86706-b397-4f66-b64f-26fe041feac7",
   "metadata": {},
   "outputs": [
    {
     "data": {
      "text/plain": [
       "<selenium.webdriver.remote.webelement.WebElement (session=\"017c0172a703db32a718e7ff09359e8d\", element=\"f.76D0744B5B0BDD57C977D6467D4CBDD4.d.8B17F4A92891B22BDE4E1CFE31F7F1BD.e.3\")>"
      ]
     },
     "execution_count": 189,
     "metadata": {},
     "output_type": "execute_result"
    }
   ],
   "source": [
    "wait = WebDriverWait(driver, 10)\n",
    "wait.until(EC.presence_of_element_located((By.CLASS_NAME, \"ds-w-full\")))"
   ]
  },
  {
   "cell_type": "code",
   "execution_count": 191,
   "id": "33b8f5b0-85e5-41e4-8b18-7308c371649b",
   "metadata": {},
   "outputs": [],
   "source": [
    "last_height = driver.execute_script(\"return document.body.scrollHeight\")\n",
    "while True:\n",
    "    # Scroll to the bottom of the page\n",
    "    driver.execute_script(\"window.scrollTo(0, document.body.scrollHeight);\")\n",
    "    time.sleep(2)  # Allow time for new content to load\n",
    "\n",
    "    # Check if new content was loaded\n",
    "    new_height = driver.execute_script(\"return document.body.scrollHeight\")\n",
    "    if new_height == last_height:  # If no new content loaded, stop scrolling\n",
    "        break\n",
    "    last_height = new_height"
   ]
  },
  {
   "cell_type": "code",
   "execution_count": 193,
   "id": "5fe252b9-3e5b-4dbc-8c13-582439121897",
   "metadata": {},
   "outputs": [],
   "source": [
    "out = BeautifulSoup(html, \"html.parser\")"
   ]
  },
  {
   "cell_type": "code",
   "execution_count": 195,
   "id": "d4c5cf4e-a265-43f8-9f90-b8b93121fff7",
   "metadata": {},
   "outputs": [],
   "source": [
    "table=out.find_all('table')"
   ]
  },
  {
   "cell_type": "code",
   "execution_count": null,
   "id": "9e7d79e4-d44e-4d42-95e1-45e11f2a6662",
   "metadata": {},
   "outputs": [],
   "source": [
    "table"
   ]
  },
  {
   "cell_type": "code",
   "execution_count": 199,
   "id": "eee16a3e-f4a4-4777-8d92-ad44a4145fd6",
   "metadata": {},
   "outputs": [
    {
     "name": "stderr",
     "output_type": "stream",
     "text": [
      "C:\\Users\\welcome\\AppData\\Local\\Temp\\ipykernel_16696\\146047393.py:1: FutureWarning: Passing literal html to 'read_html' is deprecated and will be removed in a future version. To read from a literal string, wrap it in a 'StringIO' object.\n",
      "  data=pd.read_html(str(table))\n"
     ]
    }
   ],
   "source": [
    "data=pd.read_html(str(table))"
   ]
  },
  {
   "cell_type": "code",
   "execution_count": 201,
   "id": "0e6a9e56-7eee-4bc7-8fc0-51789b73b942",
   "metadata": {},
   "outputs": [],
   "source": [
    "df=data[0]"
   ]
  },
  {
   "cell_type": "code",
   "execution_count": 203,
   "id": "cd308a14-c758-4e46-a558-e1107a5d1b4f",
   "metadata": {},
   "outputs": [
    {
     "data": {
      "text/html": [
       "<div>\n",
       "<style scoped>\n",
       "    .dataframe tbody tr th:only-of-type {\n",
       "        vertical-align: middle;\n",
       "    }\n",
       "\n",
       "    .dataframe tbody tr th {\n",
       "        vertical-align: top;\n",
       "    }\n",
       "\n",
       "    .dataframe thead th {\n",
       "        text-align: right;\n",
       "    }\n",
       "</style>\n",
       "<table border=\"1\" class=\"dataframe\">\n",
       "  <thead>\n",
       "    <tr style=\"text-align: right;\">\n",
       "      <th></th>\n",
       "      <th>Players</th>\n",
       "      <th>Team</th>\n",
       "      <th>Type</th>\n",
       "      <th>Base</th>\n",
       "      <th>Sold</th>\n",
       "    </tr>\n",
       "  </thead>\n",
       "  <tbody>\n",
       "    <tr>\n",
       "      <th>0</th>\n",
       "      <td>Virat Kohli</td>\n",
       "      <td>RCB</td>\n",
       "      <td>BAT</td>\n",
       "      <td>-</td>\n",
       "      <td>21.00</td>\n",
       "    </tr>\n",
       "    <tr>\n",
       "      <th>1</th>\n",
       "      <td>Rajat Patidar</td>\n",
       "      <td>RCB</td>\n",
       "      <td>BAT</td>\n",
       "      <td>-</td>\n",
       "      <td>11.00</td>\n",
       "    </tr>\n",
       "    <tr>\n",
       "      <th>2</th>\n",
       "      <td>Yash Dayal</td>\n",
       "      <td>RCB</td>\n",
       "      <td>BOWL</td>\n",
       "      <td>-</td>\n",
       "      <td>5.00</td>\n",
       "    </tr>\n",
       "    <tr>\n",
       "      <th>3</th>\n",
       "      <td>Jasprit Bumrah</td>\n",
       "      <td>MI</td>\n",
       "      <td>BOWL</td>\n",
       "      <td>-</td>\n",
       "      <td>18.00</td>\n",
       "    </tr>\n",
       "    <tr>\n",
       "      <th>4</th>\n",
       "      <td>Suryakumar Yadav</td>\n",
       "      <td>MI</td>\n",
       "      <td>BAT</td>\n",
       "      <td>-</td>\n",
       "      <td>16.35</td>\n",
       "    </tr>\n",
       "    <tr>\n",
       "      <th>...</th>\n",
       "      <td>...</td>\n",
       "      <td>...</td>\n",
       "      <td>...</td>\n",
       "      <td>...</td>\n",
       "      <td>...</td>\n",
       "    </tr>\n",
       "    <tr>\n",
       "      <th>618</th>\n",
       "      <td>Vijay Yadav</td>\n",
       "      <td>-</td>\n",
       "      <td>AR</td>\n",
       "      <td>0.30</td>\n",
       "      <td>TBA</td>\n",
       "    </tr>\n",
       "    <tr>\n",
       "      <th>619</th>\n",
       "      <td>Jofra Archer</td>\n",
       "      <td>RR</td>\n",
       "      <td>BOWL</td>\n",
       "      <td>2.00</td>\n",
       "      <td>12.50</td>\n",
       "    </tr>\n",
       "    <tr>\n",
       "      <th>620</th>\n",
       "      <td>Saurabh Netravalkar</td>\n",
       "      <td>-</td>\n",
       "      <td>BOWL</td>\n",
       "      <td>0.30</td>\n",
       "      <td>TBA</td>\n",
       "    </tr>\n",
       "    <tr>\n",
       "      <th>621</th>\n",
       "      <td>Hardik Tamore</td>\n",
       "      <td>-</td>\n",
       "      <td>WK</td>\n",
       "      <td>0.30</td>\n",
       "      <td>TBA</td>\n",
       "    </tr>\n",
       "    <tr>\n",
       "      <th>622</th>\n",
       "      <td>Daryl Mitchell</td>\n",
       "      <td>-</td>\n",
       "      <td>AR</td>\n",
       "      <td>2.00</td>\n",
       "      <td>Unsold</td>\n",
       "    </tr>\n",
       "  </tbody>\n",
       "</table>\n",
       "<p>623 rows × 5 columns</p>\n",
       "</div>"
      ],
      "text/plain": [
       "                 Players Team  Type  Base    Sold\n",
       "0            Virat Kohli  RCB   BAT     -   21.00\n",
       "1          Rajat Patidar  RCB   BAT     -   11.00\n",
       "2             Yash Dayal  RCB  BOWL     -    5.00\n",
       "3         Jasprit Bumrah   MI  BOWL     -   18.00\n",
       "4       Suryakumar Yadav   MI   BAT     -   16.35\n",
       "..                   ...  ...   ...   ...     ...\n",
       "618          Vijay Yadav    -    AR  0.30     TBA\n",
       "619         Jofra Archer   RR  BOWL  2.00   12.50\n",
       "620  Saurabh Netravalkar    -  BOWL  0.30     TBA\n",
       "621        Hardik Tamore    -    WK  0.30     TBA\n",
       "622       Daryl Mitchell    -    AR  2.00  Unsold\n",
       "\n",
       "[623 rows x 5 columns]"
      ]
     },
     "execution_count": 203,
     "metadata": {},
     "output_type": "execute_result"
    }
   ],
   "source": [
    "df"
   ]
  },
  {
   "cell_type": "code",
   "execution_count": 181,
   "id": "ae79f718-5dd9-4123-9749-4e704145a1d8",
   "metadata": {},
   "outputs": [],
   "source": [
    "df.to_csv(\"ipl_2025_auction_players.csv\", index=False)"
   ]
  },
  {
   "cell_type": "code",
   "execution_count": null,
   "id": "e05ea090-d23c-40f6-b004-b1e6e4b15d3e",
   "metadata": {},
   "outputs": [],
   "source": []
  }
 ],
 "metadata": {
  "kernelspec": {
   "display_name": "Python 3 (ipykernel)",
   "language": "python",
   "name": "python3"
  },
  "language_info": {
   "codemirror_mode": {
    "name": "ipython",
    "version": 3
   },
   "file_extension": ".py",
   "mimetype": "text/x-python",
   "name": "python",
   "nbconvert_exporter": "python",
   "pygments_lexer": "ipython3",
   "version": "3.12.4"
  }
 },
 "nbformat": 4,
 "nbformat_minor": 5
}
