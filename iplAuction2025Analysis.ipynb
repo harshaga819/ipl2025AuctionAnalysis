{
 "cells": [
  {
   "cell_type": "markdown",
   "id": "a7d920d0-d353-4b3a-a927-dc26bb607f91",
   "metadata": {},
   "source": [
    "### Points to analysis:\n",
    "1. Which team has spend more money and on which type of players?\n",
    "\n",
    "2. What was the trend of spending money by all teams?\n",
    "\n",
    "3. Who has got the highest money in the auction?\n",
    "\n",
    "4. Analysis every team spend pattern?\n",
    "\n",
    "5. Analysis every category of players who has got more money and who has got less money in auction?"
   ]
  },
  {
   "cell_type": "code",
   "execution_count": 3,
   "id": "234baa98-01fa-4635-8a81-8ded73655f0a",
   "metadata": {},
   "outputs": [],
   "source": [
    "import pandas as pd\n",
    "import numpy as np\n",
    "import matplotlib.pyplot as plt\n",
    "import seaborn as sns"
   ]
  },
  {
   "cell_type": "code",
   "execution_count": 7,
   "id": "e5fdc50c-007b-46d3-9cde-a32ae643aa4c",
   "metadata": {},
   "outputs": [],
   "source": [
    "df = pd.read_csv('ipl_2025_auction_players.csv')"
   ]
  },
  {
   "cell_type": "code",
   "execution_count": 9,
   "id": "a7f10fc0-2610-4f86-a168-5198e60f974f",
   "metadata": {},
   "outputs": [
    {
     "data": {
      "text/html": [
       "<div>\n",
       "<style scoped>\n",
       "    .dataframe tbody tr th:only-of-type {\n",
       "        vertical-align: middle;\n",
       "    }\n",
       "\n",
       "    .dataframe tbody tr th {\n",
       "        vertical-align: top;\n",
       "    }\n",
       "\n",
       "    .dataframe thead th {\n",
       "        text-align: right;\n",
       "    }\n",
       "</style>\n",
       "<table border=\"1\" class=\"dataframe\">\n",
       "  <thead>\n",
       "    <tr style=\"text-align: right;\">\n",
       "      <th></th>\n",
       "      <th>Players</th>\n",
       "      <th>Team</th>\n",
       "      <th>Type</th>\n",
       "      <th>Base</th>\n",
       "      <th>Sold</th>\n",
       "    </tr>\n",
       "  </thead>\n",
       "  <tbody>\n",
       "    <tr>\n",
       "      <th>0</th>\n",
       "      <td>Virat Kohli</td>\n",
       "      <td>RCB</td>\n",
       "      <td>BAT</td>\n",
       "      <td>-</td>\n",
       "      <td>21.00</td>\n",
       "    </tr>\n",
       "    <tr>\n",
       "      <th>1</th>\n",
       "      <td>Rajat Patidar</td>\n",
       "      <td>RCB</td>\n",
       "      <td>BAT</td>\n",
       "      <td>-</td>\n",
       "      <td>11.00</td>\n",
       "    </tr>\n",
       "    <tr>\n",
       "      <th>2</th>\n",
       "      <td>Yash Dayal</td>\n",
       "      <td>RCB</td>\n",
       "      <td>BOWL</td>\n",
       "      <td>-</td>\n",
       "      <td>5.00</td>\n",
       "    </tr>\n",
       "    <tr>\n",
       "      <th>3</th>\n",
       "      <td>Jasprit Bumrah</td>\n",
       "      <td>MI</td>\n",
       "      <td>BOWL</td>\n",
       "      <td>-</td>\n",
       "      <td>18.00</td>\n",
       "    </tr>\n",
       "    <tr>\n",
       "      <th>4</th>\n",
       "      <td>Suryakumar Yadav</td>\n",
       "      <td>MI</td>\n",
       "      <td>BAT</td>\n",
       "      <td>-</td>\n",
       "      <td>16.35</td>\n",
       "    </tr>\n",
       "  </tbody>\n",
       "</table>\n",
       "</div>"
      ],
      "text/plain": [
       "            Players Team  Type Base   Sold\n",
       "0       Virat Kohli  RCB   BAT    -  21.00\n",
       "1     Rajat Patidar  RCB   BAT    -  11.00\n",
       "2        Yash Dayal  RCB  BOWL    -   5.00\n",
       "3    Jasprit Bumrah   MI  BOWL    -  18.00\n",
       "4  Suryakumar Yadav   MI   BAT    -  16.35"
      ]
     },
     "execution_count": 9,
     "metadata": {},
     "output_type": "execute_result"
    }
   ],
   "source": [
    "df.head()"
   ]
  },
  {
   "cell_type": "code",
   "execution_count": 11,
   "id": "7dbdbf1c-5fb9-4113-b0c6-7f45bf2fad52",
   "metadata": {},
   "outputs": [
    {
     "data": {
      "text/plain": [
       "Players    object\n",
       "Team       object\n",
       "Type       object\n",
       "Base       object\n",
       "Sold       object\n",
       "dtype: object"
      ]
     },
     "execution_count": 11,
     "metadata": {},
     "output_type": "execute_result"
    }
   ],
   "source": [
    "df.dtypes"
   ]
  },
  {
   "cell_type": "code",
   "execution_count": 13,
   "id": "a99ec049-126b-44c9-bae6-44ee77fe88a4",
   "metadata": {},
   "outputs": [],
   "source": [
    "df['Base']=df['Base'].replace({'-':0}).astype(float).astype(int)"
   ]
  },
  {
   "cell_type": "code",
   "execution_count": 15,
   "id": "b8c65402-a5f7-44b5-81ec-96b51e73af51",
   "metadata": {},
   "outputs": [
    {
     "data": {
      "text/plain": [
       "Players     object\n",
       "Team        object\n",
       "Type        object\n",
       "Base         int32\n",
       "Sold       float64\n",
       "dtype: object"
      ]
     },
     "execution_count": 15,
     "metadata": {},
     "output_type": "execute_result"
    }
   ],
   "source": [
    "df['Sold']=df['Sold'].replace({'Unsold':0,'TBA':0}).astype(float)\n",
    "df.dtypes"
   ]
  },
  {
   "cell_type": "code",
   "execution_count": 17,
   "id": "a926ebf2-ff78-4860-b5fd-2baa757aee85",
   "metadata": {},
   "outputs": [],
   "source": [
    "df.drop_duplicates(keep='first',inplace=True)"
   ]
  },
  {
   "cell_type": "code",
   "execution_count": 19,
   "id": "882c2e09-58b5-4c88-a8ba-9f216aebdd72",
   "metadata": {},
   "outputs": [
    {
     "data": {
      "text/html": [
       "<div>\n",
       "<style scoped>\n",
       "    .dataframe tbody tr th:only-of-type {\n",
       "        vertical-align: middle;\n",
       "    }\n",
       "\n",
       "    .dataframe tbody tr th {\n",
       "        vertical-align: top;\n",
       "    }\n",
       "\n",
       "    .dataframe thead th {\n",
       "        text-align: right;\n",
       "    }\n",
       "</style>\n",
       "<table border=\"1\" class=\"dataframe\">\n",
       "  <thead>\n",
       "    <tr style=\"text-align: right;\">\n",
       "      <th></th>\n",
       "      <th>Players</th>\n",
       "      <th>Team</th>\n",
       "      <th>Type</th>\n",
       "      <th>Base</th>\n",
       "      <th>Sold</th>\n",
       "    </tr>\n",
       "  </thead>\n",
       "  <tbody>\n",
       "    <tr>\n",
       "      <th>0</th>\n",
       "      <td>Virat Kohli</td>\n",
       "      <td>RCB</td>\n",
       "      <td>BAT</td>\n",
       "      <td>0</td>\n",
       "      <td>21.00</td>\n",
       "    </tr>\n",
       "    <tr>\n",
       "      <th>1</th>\n",
       "      <td>Rajat Patidar</td>\n",
       "      <td>RCB</td>\n",
       "      <td>BAT</td>\n",
       "      <td>0</td>\n",
       "      <td>11.00</td>\n",
       "    </tr>\n",
       "    <tr>\n",
       "      <th>2</th>\n",
       "      <td>Yash Dayal</td>\n",
       "      <td>RCB</td>\n",
       "      <td>BOWL</td>\n",
       "      <td>0</td>\n",
       "      <td>5.00</td>\n",
       "    </tr>\n",
       "    <tr>\n",
       "      <th>3</th>\n",
       "      <td>Jasprit Bumrah</td>\n",
       "      <td>MI</td>\n",
       "      <td>BOWL</td>\n",
       "      <td>0</td>\n",
       "      <td>18.00</td>\n",
       "    </tr>\n",
       "    <tr>\n",
       "      <th>4</th>\n",
       "      <td>Suryakumar Yadav</td>\n",
       "      <td>MI</td>\n",
       "      <td>BAT</td>\n",
       "      <td>0</td>\n",
       "      <td>16.35</td>\n",
       "    </tr>\n",
       "  </tbody>\n",
       "</table>\n",
       "</div>"
      ],
      "text/plain": [
       "            Players Team  Type  Base   Sold\n",
       "0       Virat Kohli  RCB   BAT     0  21.00\n",
       "1     Rajat Patidar  RCB   BAT     0  11.00\n",
       "2        Yash Dayal  RCB  BOWL     0   5.00\n",
       "3    Jasprit Bumrah   MI  BOWL     0  18.00\n",
       "4  Suryakumar Yadav   MI   BAT     0  16.35"
      ]
     },
     "execution_count": 19,
     "metadata": {},
     "output_type": "execute_result"
    }
   ],
   "source": [
    "df.head()"
   ]
  },
  {
   "cell_type": "code",
   "execution_count": 21,
   "id": "ea9dd81a-e29f-46f3-ac9f-797372d6f835",
   "metadata": {},
   "outputs": [],
   "source": [
    "unsold=df[df['Sold']==0]"
   ]
  },
  {
   "cell_type": "code",
   "execution_count": 23,
   "id": "231762d4-bc22-4a67-84de-d83c94ba50a9",
   "metadata": {},
   "outputs": [],
   "source": [
    "sold=df[df['Sold']>0.0]"
   ]
  },
  {
   "cell_type": "code",
   "execution_count": 25,
   "id": "4e3a4eba-8883-4cd7-88dc-fb2655ffa230",
   "metadata": {},
   "outputs": [
    {
     "data": {
      "text/html": [
       "<div>\n",
       "<style scoped>\n",
       "    .dataframe tbody tr th:only-of-type {\n",
       "        vertical-align: middle;\n",
       "    }\n",
       "\n",
       "    .dataframe tbody tr th {\n",
       "        vertical-align: top;\n",
       "    }\n",
       "\n",
       "    .dataframe thead th {\n",
       "        text-align: right;\n",
       "    }\n",
       "</style>\n",
       "<table border=\"1\" class=\"dataframe\">\n",
       "  <thead>\n",
       "    <tr style=\"text-align: right;\">\n",
       "      <th></th>\n",
       "      <th>Players</th>\n",
       "      <th>Team</th>\n",
       "      <th>Type</th>\n",
       "      <th>Base</th>\n",
       "      <th>Sold</th>\n",
       "    </tr>\n",
       "  </thead>\n",
       "  <tbody>\n",
       "    <tr>\n",
       "      <th>64</th>\n",
       "      <td>David Warner</td>\n",
       "      <td>-</td>\n",
       "      <td>BAT</td>\n",
       "      <td>2</td>\n",
       "      <td>0.0</td>\n",
       "    </tr>\n",
       "    <tr>\n",
       "      <th>72</th>\n",
       "      <td>Jonny Bairstow</td>\n",
       "      <td>-</td>\n",
       "      <td>BAT</td>\n",
       "      <td>2</td>\n",
       "      <td>0.0</td>\n",
       "    </tr>\n",
       "    <tr>\n",
       "      <th>88</th>\n",
       "      <td>Waqar Salamkheil</td>\n",
       "      <td>-</td>\n",
       "      <td>BOWL</td>\n",
       "      <td>0</td>\n",
       "      <td>0.0</td>\n",
       "    </tr>\n",
       "    <tr>\n",
       "      <th>91</th>\n",
       "      <td>Yash Dhull</td>\n",
       "      <td>-</td>\n",
       "      <td>BAT</td>\n",
       "      <td>0</td>\n",
       "      <td>0.0</td>\n",
       "    </tr>\n",
       "    <tr>\n",
       "      <th>95</th>\n",
       "      <td>Anmolpreet Singh</td>\n",
       "      <td>-</td>\n",
       "      <td>BAT</td>\n",
       "      <td>0</td>\n",
       "      <td>0.0</td>\n",
       "    </tr>\n",
       "  </tbody>\n",
       "</table>\n",
       "</div>"
      ],
      "text/plain": [
       "             Players Team  Type  Base  Sold\n",
       "64      David Warner    -   BAT     2   0.0\n",
       "72    Jonny Bairstow    -   BAT     2   0.0\n",
       "88  Waqar Salamkheil    -  BOWL     0   0.0\n",
       "91        Yash Dhull    -   BAT     0   0.0\n",
       "95  Anmolpreet Singh    -   BAT     0   0.0"
      ]
     },
     "execution_count": 25,
     "metadata": {},
     "output_type": "execute_result"
    }
   ],
   "source": [
    "unsold.head()"
   ]
  },
  {
   "cell_type": "code",
   "execution_count": 27,
   "id": "31148c42-f9bd-474a-863b-e7b06d845e44",
   "metadata": {},
   "outputs": [
    {
     "data": {
      "text/html": [
       "<div>\n",
       "<style scoped>\n",
       "    .dataframe tbody tr th:only-of-type {\n",
       "        vertical-align: middle;\n",
       "    }\n",
       "\n",
       "    .dataframe tbody tr th {\n",
       "        vertical-align: top;\n",
       "    }\n",
       "\n",
       "    .dataframe thead th {\n",
       "        text-align: right;\n",
       "    }\n",
       "</style>\n",
       "<table border=\"1\" class=\"dataframe\">\n",
       "  <thead>\n",
       "    <tr style=\"text-align: right;\">\n",
       "      <th></th>\n",
       "      <th>Players</th>\n",
       "      <th>Team</th>\n",
       "      <th>Type</th>\n",
       "      <th>Base</th>\n",
       "      <th>Sold</th>\n",
       "    </tr>\n",
       "  </thead>\n",
       "  <tbody>\n",
       "    <tr>\n",
       "      <th>0</th>\n",
       "      <td>Virat Kohli</td>\n",
       "      <td>RCB</td>\n",
       "      <td>BAT</td>\n",
       "      <td>0</td>\n",
       "      <td>21.00</td>\n",
       "    </tr>\n",
       "    <tr>\n",
       "      <th>1</th>\n",
       "      <td>Rajat Patidar</td>\n",
       "      <td>RCB</td>\n",
       "      <td>BAT</td>\n",
       "      <td>0</td>\n",
       "      <td>11.00</td>\n",
       "    </tr>\n",
       "    <tr>\n",
       "      <th>2</th>\n",
       "      <td>Yash Dayal</td>\n",
       "      <td>RCB</td>\n",
       "      <td>BOWL</td>\n",
       "      <td>0</td>\n",
       "      <td>5.00</td>\n",
       "    </tr>\n",
       "    <tr>\n",
       "      <th>3</th>\n",
       "      <td>Jasprit Bumrah</td>\n",
       "      <td>MI</td>\n",
       "      <td>BOWL</td>\n",
       "      <td>0</td>\n",
       "      <td>18.00</td>\n",
       "    </tr>\n",
       "    <tr>\n",
       "      <th>4</th>\n",
       "      <td>Suryakumar Yadav</td>\n",
       "      <td>MI</td>\n",
       "      <td>BAT</td>\n",
       "      <td>0</td>\n",
       "      <td>16.35</td>\n",
       "    </tr>\n",
       "  </tbody>\n",
       "</table>\n",
       "</div>"
      ],
      "text/plain": [
       "            Players Team  Type  Base   Sold\n",
       "0       Virat Kohli  RCB   BAT     0  21.00\n",
       "1     Rajat Patidar  RCB   BAT     0  11.00\n",
       "2        Yash Dayal  RCB  BOWL     0   5.00\n",
       "3    Jasprit Bumrah   MI  BOWL     0  18.00\n",
       "4  Suryakumar Yadav   MI   BAT     0  16.35"
      ]
     },
     "execution_count": 27,
     "metadata": {},
     "output_type": "execute_result"
    }
   ],
   "source": [
    "sold.head()"
   ]
  },
  {
   "cell_type": "code",
   "execution_count": 31,
   "id": "448f4aec-5ddc-4680-af4c-41f486bdc28d",
   "metadata": {},
   "outputs": [],
   "source": [
    "teamSpend=sold.groupby('Team').agg({'Sold':'sum'}).sort_values(by='Sold',ascending=False).reset_index()"
   ]
  },
  {
   "cell_type": "code",
   "execution_count": 33,
   "id": "480156af-4af0-476c-bb48-ab2a1f81434e",
   "metadata": {},
   "outputs": [],
   "source": [
    "def highest_team_player(team_name):\n",
    "    team_df=sold[sold['Team']==team_name]\n",
    "    highest_price=team_df.loc[team_df['Sold'].idxmax()]\n",
    "    return highest_price"
   ]
  },
  {
   "cell_type": "code",
   "execution_count": 35,
   "id": "9947578a-7c9a-4ffb-b17b-25d7643181a5",
   "metadata": {},
   "outputs": [
    {
     "name": "stderr",
     "output_type": "stream",
     "text": [
      "C:\\Users\\welcome\\AppData\\Local\\Temp\\ipykernel_7484\\4098983527.py:1: FutureWarning: Series.__getitem__ treating keys as positions is deprecated. In a future version, integer keys will always be treated as labels (consistent with DataFrame behavior). To access a value by position, use `ser.iloc[pos]`\n",
      "  highest_team_player(teamSpend.iloc[0][0])\n"
     ]
    },
    {
     "data": {
      "text/plain": [
       "Players    Ruturaj Gaikwad\n",
       "Team                   CSK\n",
       "Type                   BAT\n",
       "Base                     0\n",
       "Sold                  18.0\n",
       "Name: 13, dtype: object"
      ]
     },
     "execution_count": 35,
     "metadata": {},
     "output_type": "execute_result"
    }
   ],
   "source": [
    "highest_team_player(teamSpend.iloc[0][0])"
   ]
  },
  {
   "cell_type": "markdown",
   "id": "270a18f2-2a52-445e-9118-90d0c86c6f62",
   "metadata": {},
   "source": [
    "#### Ques - Which team has spend more money and on which type of players?\n",
    "\n",
    "Ans - CSK has spend more money among all teams and they have spend 18 cr. on Ruturaj Gaikwad"
   ]
  },
  {
   "cell_type": "code",
   "execution_count": 46,
   "id": "977e97a6-7a90-4ce1-8a7a-ae03839dfee2",
   "metadata": {},
   "outputs": [],
   "source": [
    "teamwise_analysis =sold.groupby(['Team','Type']).agg({'Sold':'sum'}).reset_index()"
   ]
  },
  {
   "cell_type": "code",
   "execution_count": 48,
   "id": "23ca2448-62a9-44ec-b54c-084bfaf232cd",
   "metadata": {},
   "outputs": [
    {
     "data": {
      "text/html": [
       "<div>\n",
       "<style scoped>\n",
       "    .dataframe tbody tr th:only-of-type {\n",
       "        vertical-align: middle;\n",
       "    }\n",
       "\n",
       "    .dataframe tbody tr th {\n",
       "        vertical-align: top;\n",
       "    }\n",
       "\n",
       "    .dataframe thead th {\n",
       "        text-align: right;\n",
       "    }\n",
       "</style>\n",
       "<table border=\"1\" class=\"dataframe\">\n",
       "  <thead>\n",
       "    <tr style=\"text-align: right;\">\n",
       "      <th></th>\n",
       "      <th>Team</th>\n",
       "      <th>Type</th>\n",
       "      <th>Sold</th>\n",
       "    </tr>\n",
       "  </thead>\n",
       "  <tbody>\n",
       "    <tr>\n",
       "      <th>0</th>\n",
       "      <td>CSK</td>\n",
       "      <td>AR</td>\n",
       "      <td>54.55</td>\n",
       "    </tr>\n",
       "    <tr>\n",
       "      <th>1</th>\n",
       "      <td>CSK</td>\n",
       "      <td>BAT</td>\n",
       "      <td>32.80</td>\n",
       "    </tr>\n",
       "    <tr>\n",
       "      <th>2</th>\n",
       "      <td>CSK</td>\n",
       "      <td>BOWL</td>\n",
       "      <td>32.60</td>\n",
       "    </tr>\n",
       "    <tr>\n",
       "      <th>3</th>\n",
       "      <td>DC</td>\n",
       "      <td>AR</td>\n",
       "      <td>23.35</td>\n",
       "    </tr>\n",
       "    <tr>\n",
       "      <th>4</th>\n",
       "      <td>DC</td>\n",
       "      <td>BAT</td>\n",
       "      <td>46.50</td>\n",
       "    </tr>\n",
       "  </tbody>\n",
       "</table>\n",
       "</div>"
      ],
      "text/plain": [
       "  Team  Type   Sold\n",
       "0  CSK    AR  54.55\n",
       "1  CSK   BAT  32.80\n",
       "2  CSK  BOWL  32.60\n",
       "3   DC    AR  23.35\n",
       "4   DC   BAT  46.50"
      ]
     },
     "execution_count": 48,
     "metadata": {},
     "output_type": "execute_result"
    }
   ],
   "source": [
    "teamwise_analysis.head()"
   ]
  },
  {
   "cell_type": "code",
   "execution_count": 52,
   "id": "25161d3f-2085-4278-955f-63a440233901",
   "metadata": {},
   "outputs": [
    {
     "data": {
      "image/png": "[encoded data removed]",
      "text/plain": [
       "<Figure size 1000x600 with 1 Axes>"
      ]
     },
     "metadata": {},
     "output_type": "display_data"
    }
   ],
   "source": [
    "plt.figure(figsize=(10, 6))\n",
    "sns.barplot(data=teamwise_analysis, x='Team', y='Sold', hue=\"Type\", palette='viridis')\n",
    "plt.title('Total Spend by Teams on each type', fontsize=16)\n",
    "plt.xlabel('Team - Type', fontsize=12)\n",
    "plt.ylabel('Total Spend(cr.)', fontsize=12)\n",
    "plt.xticks(rotation=70)\n",
    "plt.tight_layout()\n",
    "plt.show()"
   ]
  },
  {
   "cell_type": "markdown",
   "id": "6ae6f822-3301-4899-8e65-c177b2a591da",
   "metadata": {},
   "source": [
    "#### Ques - What was the trend of spending money by all teams?\n",
    "Ans - Check the bar graph above "
   ]
  },
  {
   "cell_type": "code",
   "execution_count": 54,
   "id": "0d4fa81b-311a-4ff4-8fe0-c37e9ccd2e1f",
   "metadata": {},
   "outputs": [
    {
     "data": {
      "text/plain": [
       "Players    Rishabh Pant\n",
       "Team                LSG\n",
       "Type                BAT\n",
       "Base                  2\n",
       "Sold               27.0\n",
       "Name: 48, dtype: object"
      ]
     },
     "execution_count": 54,
     "metadata": {},
     "output_type": "execute_result"
    }
   ],
   "source": [
    "sold.loc[sold['Sold'].idxmax()]"
   ]
  },
  {
   "cell_type": "markdown",
   "id": "41860ea1-17be-4987-bb94-74eb69dd2e5c",
   "metadata": {},
   "source": [
    "#### Ques - Who has got the highest money in the auction?\n",
    "Ans - Rishabh Pant"
   ]
  },
  {
   "cell_type": "code",
   "execution_count": 61,
   "id": "03fccb1c-f45c-44b2-b440-930a32e9d10a",
   "metadata": {},
   "outputs": [],
   "source": [
    "typewise_number =sold.groupby(['Team','Type']).size().reset_index(name='Type_Count')"
   ]
  },
  {
   "cell_type": "code",
   "execution_count": 63,
   "id": "41b316be-2da2-4c0c-9fb5-fd7c304e5f69",
   "metadata": {},
   "outputs": [
    {
     "data": {
      "image/png": "[encoded data removed]",
      "text/plain": [
       "<Figure size 1000x600 with 1 Axes>"
      ]
     },
     "metadata": {},
     "output_type": "display_data"
    }
   ],
   "source": [
    "plt.figure(figsize=(10, 6))\n",
    "sns.barplot(data=typewise_number, x='Team', y='Type_Count', palette='viridis',hue=\"Type\")\n",
    "plt.title('Total players by Teams on each type', fontsize=16)\n",
    "plt.xlabel('Team - Type', fontsize=12)\n",
    "plt.ylabel('Total players', fontsize=12)\n",
    "plt.xticks(rotation=70)\n",
    "plt.tight_layout()\n",
    "plt.show()"
   ]
  },
  {
   "cell_type": "markdown",
   "id": "9343cc63-632f-45be-8162-f16138f1cf26",
   "metadata": {},
   "source": [
    "#### Ques - Analysis every team spend pattern?\n",
    "Ans - Check the above Bar graph "
   ]
  },
  {
   "cell_type": "code",
   "execution_count": 125,
   "id": "fa42014c-8409-4438-a70e-03484cb5416e",
   "metadata": {},
   "outputs": [],
   "source": [
    "categorywise =sold.groupby(['Type','Team']).agg({'Type':'size','Sold':'sum'}).rename(columns={'Type':'Total_players','Sold':'Total_value'}).reset_index()"
   ]
  },
  {
   "cell_type": "code",
   "execution_count": 121,
   "id": "e2a833d3-ba33-45ec-ad86-23ff242c7651",
   "metadata": {},
   "outputs": [
    {
     "data": {
      "image/png": "[encoded data removed]",
      "text/plain": [
       "<Figure size 1200x400 with 2 Axes>"
      ]
     },
     "metadata": {},
     "output_type": "display_data"
    }
   ],
   "source": [
    "plt.figure(figsize=(12,4))\n",
    "\n",
    "plt.subplot(1,2,1)\n",
    "sns.barplot(x=categorywise['Type'],y=categorywise['Total_value'],hue=categorywise['Team'])\n",
    "plt.title('Money spend on each category',fontsize=16)\n",
    "plt.xlabel('Player types',fontsize=12)\n",
    "plt.ylabel('Total amount (cr.)',fontsize=12)\n",
    "plt.legend(bbox_to_anchor=(-.12,1))\n",
    "\n",
    "plt.subplot(1,2,2)\n",
    "sns.barplot(x=categorywise['Type'],y=categorywise['Total_players'],hue=categorywise['Team'])\n",
    "plt.title('Total players sold in each category ',fontsize=16)\n",
    "plt.xlabel('Player types',fontsize=12)\n",
    "plt.ylabel('Total number of players',fontsize=12)\n",
    "plt.legend(bbox_to_anchor=(1,1))\n",
    "\n",
    "plt.show()"
   ]
  },
  {
   "cell_type": "markdown",
   "id": "6dbddeb7-e512-45e6-8082-7d78554164ac",
   "metadata": {},
   "source": [
    "#### Ques - Analysis every category of players who has got more money and who has got less money in auction?\n",
    "Ans  - Check the above graph"
   ]
  },
  {
   "cell_type": "code",
   "execution_count": null,
   "id": "706d59fe-8643-407f-b18a-767b39dc9095",
   "metadata": {},
   "outputs": [],
   "source": []
  }
 ],
 "metadata": {
  "kernelspec": {
   "display_name": "Python 3 (ipykernel)",
   "language": "python",
   "name": "python3"
  },
  "language_info": {
   "codemirror_mode": {
    "name": "ipython",
    "version": 3
   },
   "file_extension": ".py",
   "mimetype": "text/x-python",
   "name": "python",
   "nbconvert_exporter": "python",
   "pygments_lexer": "ipython3",
   "version": "3.12.4"
  }
 },
 "nbformat": 4,
 "nbformat_minor": 5
}
